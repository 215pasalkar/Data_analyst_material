{
 "cells": [
  {
   "cell_type": "code",
   "execution_count": 1,
   "id": "dcc12229",
   "metadata": {},
   "outputs": [
    {
     "name": "stdout",
     "output_type": "stream",
     "text": [
      "Hello World\n",
      " Welcome ankita\n"
     ]
    }
   ],
   "source": [
    "print(\"Hello World\\n Welcome ankita\")"
   ]
  },
  {
   "cell_type": "code",
   "execution_count": 1,
   "id": "9f5578bc",
   "metadata": {},
   "outputs": [
    {
     "data": {
      "text/plain": [
       "7"
      ]
     },
     "execution_count": 1,
     "metadata": {},
     "output_type": "execute_result"
    }
   ],
   "source": [
    "3+4\n",
    "\n"
   ]
  },
  {
   "cell_type": "code",
   "execution_count": 3,
   "id": "e8eb240b",
   "metadata": {},
   "outputs": [
    {
     "name": "stdout",
     "output_type": "stream",
     "text": [
      "The addition of 3 & 4 is 7\n",
      "The subtraction of 3 & 4 is -1\n",
      "The multiplication of 3 & 4 is 12\n",
      "The divison of 3 & 4 is 0.75\n",
      "The exponantial of 3 & 4 is 81\n",
      "The modules of 3 & 4 is 3\n",
      "The floor division of 3 & 4 is 7\n",
      "simple calculator run sucssefully\n"
     ]
    }
   ],
   "source": [
    "#practice program First\n",
    "#simple calculator\n",
    "a=3\n",
    "b=4\n",
    "ans= a+b\n",
    "print(\"The addition of\", a, \"&\", b, \"is\",ans)\n",
    "ans1= a-b\n",
    "print(\"The subtraction of\", a, \"&\", b, \"is\",ans1)\n",
    "ans2= a*b\n",
    "print(\"The multiplication of\", a, \"&\", b, \"is\",ans2)\n",
    "ans3= a/b\n",
    "print(\"The divison of\", a, \"&\", b, \"is\",ans3)\n",
    "ans4= a**b\n",
    "print(\"The exponantial of\", a, \"&\", b, \"is\",ans4)\n",
    "ans5= a%b\n",
    "print(\"The modules of\", a, \"&\", b, \"is\",ans5)\n",
    "ans6= a//b\n",
    "print(\"The floor division of\", a, \"&\", b, \"is\",ans6)\n",
    "print(\"simple calculator run sucssefully\")"
   ]
  },
  {
   "cell_type": "code",
   "execution_count": null,
   "id": "c880b776",
   "metadata": {},
   "outputs": [],
   "source": []
  }
 ],
 "metadata": {
  "kernelspec": {
   "display_name": "Python 3 (ipykernel)",
   "language": "python",
   "name": "python3"
  },
  "language_info": {
   "codemirror_mode": {
    "name": "ipython",
    "version": 3
   },
   "file_extension": ".py",
   "mimetype": "text/x-python",
   "name": "python",
   "nbconvert_exporter": "python",
   "pygments_lexer": "ipython3",
   "version": "3.9.13"
  }
 },
 "nbformat": 4,
 "nbformat_minor": 5
}
